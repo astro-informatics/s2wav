{
 "cells": [
  {
   "cell_type": "code",
   "execution_count": null,
   "metadata": {},
   "outputs": [],
   "source": [
    "# Config for 64bit precision\n",
    "from jax.config import config\n",
    "config.update(\"jax_enable_x64\", True)\n",
    "\n",
    "# Check we're running on GPU\n",
    "from jax.lib import xla_bridge\n",
    "print(xla_bridge.get_backend().platform)\n",
    "\n",
    "import numpy as np \n",
    "import jax.numpy as jnp\n",
    "from jax import device_put, local_device_count\n",
    "from s2wav.transforms import jax_scattering, jax_wavelets\n",
    "from s2wav.filter_factory import filters as filter_generator\n",
    "import s2fft\n",
    "import pyssht as ssht"
   ]
  },
  {
   "cell_type": "code",
   "execution_count": null,
   "metadata": {},
   "outputs": [],
   "source": [
    "L = 256\n",
    "N = 3\n",
    "J_min = 0 \n",
    "lam = 2.0\n",
    "reality = True\n",
    "sampling = \"mw\"\n",
    "multiresolution = True"
   ]
  },
  {
   "cell_type": "code",
   "execution_count": null,
   "metadata": {},
   "outputs": [],
   "source": [
    "f = ssht.inverse(ssht.forward(np.random.randn(L, 2*L-1), L, Reality=reality), L, Reality=reality)\n",
    "f = np.load('data/CosmoML_shell_40_L_256.npy')\n",
    "flm = ssht.forward(f, 256)\n",
    "flm = flm[:L**2]\n",
    "f = ssht.inverse(flm, L)\n",
    "f -= np.nanmean(f)\n",
    "f /= np.nanstd(f)\n",
    "flm = s2fft.forward_jax(f,L)"
   ]
  },
  {
   "cell_type": "code",
   "execution_count": null,
   "metadata": {},
   "outputs": [],
   "source": [
    "filters = filter_generator.filters_directional_vectorised(L, N, J_min, lam)\n",
    "precomps = jax_wavelets.generate_wigner_precomputes(L, N, J_min, lam, sampling, None, False, reality, multiresolution)"
   ]
  },
  {
   "cell_type": "code",
   "execution_count": null,
   "metadata": {},
   "outputs": [],
   "source": [
    "coeffs = jax_scattering.scatter_new(flm, L, N, reality, filters, precomps)\n",
    "ps_ref = jnp.sum(jnp.abs(flm)**2,axis=-1)\n",
    "print(coeffs.shape)"
   ]
  },
  {
   "cell_type": "code",
   "execution_count": null,
   "metadata": {},
   "outputs": [],
   "source": [
    "from jax import grad, jit\n",
    "\n",
    "@jit\n",
    "def scattering_func(x):\n",
    "    coeffs_iter = jax_scattering.scatter_new(x, L, N, reality, filters, precomps)\n",
    "    loss = jnp.sum((jnp.abs(coeffs_iter-coeffs))**2)\n",
    "    # ps_iter = jnp.sum(jnp.abs(x)**2,axis=-1)\n",
    "    # loss += jnp.sum((jnp.abs(ps_iter-ps_ref))**2)\n",
    "    return loss\n",
    "\n",
    "grad_func = jit(grad(scattering_func))"
   ]
  },
  {
   "cell_type": "code",
   "execution_count": null,
   "metadata": {},
   "outputs": [],
   "source": [
    "f_temp = np.random.randn(L, 2*L-1)\n",
    "flm_temp = s2fft.forward_jax(f_temp,L)\n",
    "flm_start = jnp.copy(flm_temp)\n",
    "E0 = scattering_func(flm_start)"
   ]
  },
  {
   "cell_type": "code",
   "execution_count": null,
   "metadata": {},
   "outputs": [],
   "source": [
    "import optax \n",
    "lr = 1e-2\n",
    "optimizer = optax.adam(lr)\n",
    "opt_state = optimizer.init(flm_temp)\n",
    "\n",
    "for i in range(1000):\n",
    "    grads = jnp.conj(grad_func(flm_temp))\n",
    "    updates, opt_state = optimizer.update(grads, opt_state)\n",
    "    flm_temp = optax.apply_updates(flm_temp, updates)\n",
    "    if i % 10 == 0: \n",
    "        print(f\"Iteration {i}: Loss/Loss-0 = {scattering_func(flm_temp)}/{E0}\")"
   ]
  },
  {
   "cell_type": "code",
   "execution_count": null,
   "metadata": {},
   "outputs": [],
   "source": [
    "start_coeffs = jax_scattering.scatter_new(\n",
    "        flm_start, L, N, reality, filters, precomps\n",
    "    )\n",
    "optimised_coeffs = jax_scattering.scatter_new(\n",
    "        flm_temp, L, N, reality, filters, precomps\n",
    "    )"
   ]
  },
  {
   "cell_type": "code",
   "execution_count": null,
   "metadata": {},
   "outputs": [],
   "source": [
    "c1 = coeffs\n",
    "c2 = start_coeffs\n",
    "c3 = optimised_coeffs"
   ]
  },
  {
   "cell_type": "code",
   "execution_count": null,
   "metadata": {},
   "outputs": [],
   "source": [
    "for i in range(len(c1)):\n",
    "    print(c1[i], c2[i], c3[i])"
   ]
  },
  {
   "cell_type": "code",
   "execution_count": null,
   "metadata": {},
   "outputs": [],
   "source": [
    "from matplotlib import pyplot as plt \n",
    "f_temp = np.real(s2fft.inverse_jax(flm_temp, L, reality=reality))\n",
    "f_start = np.real(s2fft.inverse_jax(flm_start, L, reality=reality))\n",
    "f= np.real(f)\n",
    "mx, mn = np.nanmax(f), np.nanmin(f)\n",
    "fig, (ax1,ax2, ax3) = plt.subplots(1,3, figsize=(40,20), dpi=200)\n",
    "ax1.imshow(f, vmax=mx, vmin=mn, cmap='magma')\n",
    "ax2.imshow(f_start, vmax=mx, vmin=mn, cmap='magma')\n",
    "ax3.imshow(f_temp, vmax=mx, vmin=mn, cmap='magma')\n",
    "plt.show()"
   ]
  },
  {
   "cell_type": "code",
   "execution_count": null,
   "metadata": {},
   "outputs": [],
   "source": [
    "def power_spectrum(flm):\n",
    "    return jnp.sum(jnp.abs(flm)**2,axis=-1)\n",
    "ps = power_spectrum(flm)\n",
    "ps_temp = power_spectrum(flm_temp)\n",
    "ps_start = power_spectrum(flm_start)\n",
    "\n",
    "plt.plot(ps, label=\"input\")\n",
    "plt.plot(ps_temp, label=\"converged\")\n",
    "plt.plot(ps_start, label=\"initial\")\n",
    "plt.legend()\n",
    "plt.show()"
   ]
  },
  {
   "cell_type": "code",
   "execution_count": null,
   "metadata": {},
   "outputs": [],
   "source": []
  }
 ],
 "metadata": {
  "kernelspec": {
   "display_name": "Python 3.8.15 ('s2wav')",
   "language": "python",
   "name": "python3"
  },
  "language_info": {
   "codemirror_mode": {
    "name": "ipython",
    "version": 3
   },
   "file_extension": ".py",
   "mimetype": "text/x-python",
   "name": "python",
   "nbconvert_exporter": "python",
   "pygments_lexer": "ipython3",
   "version": "3.9.16"
  },
  "orig_nbformat": 4,
  "vscode": {
   "interpreter": {
    "hash": "2eaa51c34c6264c479aef01ba42a63404a2d0b54fbb558b3097eeea4996caab5"
   }
  }
 },
 "nbformat": 4,
 "nbformat_minor": 2
}
