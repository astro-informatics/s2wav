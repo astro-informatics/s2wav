{
 "cells": [
  {
   "cell_type": "code",
   "execution_count": null,
   "metadata": {},
   "outputs": [],
   "source": [
    "# Config for 64bit precision\n",
    "from jax.config import config\n",
    "config.update(\"jax_enable_x64\", True)\n",
    "\n",
    "# Check we're running on GPU\n",
    "from jax.lib import xla_bridge\n",
    "print(xla_bridge.get_backend().platform)\n",
    "\n",
    "import numpy as np \n",
    "import jax.numpy as jnp\n",
    "from jax import device_put, local_device_count\n",
    "from s2wav.transforms import jax_scattering, jax_wavelets\n",
    "from s2wav.filter_factory import filters as filter_generator\n",
    "import s2fft\n",
    "import pyssht as ssht"
   ]
  },
  {
   "cell_type": "code",
   "execution_count": null,
   "metadata": {},
   "outputs": [],
   "source": [
    "L = 16\n",
    "N = 1\n",
    "nlayers = 2\n",
    "J_min = 0 \n",
    "lam = 2.0\n",
    "reality = True\n",
    "sampling = \"mw\"\n",
    "multiresolution = True\n",
    "spmd=False"
   ]
  },
  {
   "cell_type": "code",
   "execution_count": null,
   "metadata": {},
   "outputs": [],
   "source": [
    "f = ssht.inverse(ssht.forward(np.random.randn(L, 2*L-1), L, Reality=reality), L, Reality=reality)\n",
    "f -= np.nanmean(f)\n",
    "f /= np.nanmax(abs(f))"
   ]
  },
  {
   "cell_type": "code",
   "execution_count": null,
   "metadata": {},
   "outputs": [],
   "source": [
    "filters = filter_generator.filters_directional_vectorised(L, N, J_min, lam)\n",
    "precomps = jax_wavelets.generate_wigner_precomputes(L, N, J_min, lam, sampling, None, False, reality, multiresolution)"
   ]
  },
  {
   "cell_type": "code",
   "execution_count": null,
   "metadata": {},
   "outputs": [],
   "source": [
    "coeffs = jax_scattering.scatter(\n",
    "        f=jnp.array(f),\n",
    "        L=L,\n",
    "        N=N,\n",
    "        J_min=J_min,\n",
    "        lam=lam,\n",
    "        nlayers=nlayers,\n",
    "        reality=reality,\n",
    "        multiresolution=multiresolution,\n",
    "        filters=filters,\n",
    "        spmd=spmd,\n",
    "    )\n",
    "\n",
    "print(coeffs[:,0,0])\n",
    "print(coeffs.shape)"
   ]
  },
  {
   "cell_type": "code",
   "execution_count": null,
   "metadata": {},
   "outputs": [],
   "source": [
    "from jax import grad\n",
    "def mse_loss(y):\n",
    "    return (1./y.size)*jnp.sum((jnp.abs(y-coeffs))**2)\n",
    "\n",
    "def power_spectrum(flm, L):\n",
    "    ps = np.zeros(L, dtype=np.float64)\n",
    "    flm = np.abs(flm)**2\n",
    "    return np.sum(flm, axis=-1)\n",
    "\n",
    "# ps_true = power_spectrum(s2fft.forward(np.array(f), L, 0, reality=reality), L)\n",
    "# def ps_loss(x):\n",
    "#     z = s2fft.forward_jax(x, L, 0,reality=reality)\n",
    "#     ps = jnp.sum(jnp.abs(z)**2, axis=-1)\n",
    "#     return (1./ps.size)*jnp.sum((ps-ps_true)**2)\n",
    "    \n",
    "def scattering_func(x):\n",
    "    y = jax_scattering.scatter(\n",
    "        jnp.array(x),\n",
    "        L=L,\n",
    "        N=N,\n",
    "        J_min=J_min,\n",
    "        lam=lam,\n",
    "        nlayers=nlayers,\n",
    "        reality=reality,\n",
    "        multiresolution=multiresolution,\n",
    "        filters=filters,\n",
    "        spmd=spmd,\n",
    "    )\n",
    "    return mse_loss(y)\n",
    "    # return mse_loss(y) + ps_loss(x)\n",
    "\n",
    "grad_func = grad(scattering_func)\n",
    "f_temp = np.random.randn(L, 2*L-1)\n",
    "print(grad_func(f_temp))\n",
    "f_start = np.copy(f_temp)"
   ]
  },
  {
   "cell_type": "code",
   "execution_count": null,
   "metadata": {},
   "outputs": [],
   "source": [
    "momentum = 100\n",
    "E0 = scattering_func(f_start)\n",
    "for i in range(1000000):\n",
    "    f_temp -= momentum*grad_func(f_temp)\n",
    "    if i % 10 == 0: \n",
    "        print(f\"Iteration {i}: Energy/E0 = {scattering_func(f_temp)}/{E0}, Momentum = {momentum}\")"
   ]
  },
  {
   "cell_type": "code",
   "execution_count": null,
   "metadata": {},
   "outputs": [],
   "source": [
    "start_coeffs = jax_scattering.scatter(\n",
    "        f=f_start,\n",
    "        L=L,\n",
    "        N=N,\n",
    "        J_min=J_min,\n",
    "        lam=lam,\n",
    "        nlayers=nlayers,\n",
    "        reality=reality,\n",
    "        multiresolution=multiresolution,\n",
    "        filters=filters,\n",
    "        spmd=spmd,\n",
    "    )\n",
    "optimised_coeffs = jax_scattering.scatter(\n",
    "        f=f_temp,\n",
    "        L=L,\n",
    "        N=N,\n",
    "        J_min=J_min,\n",
    "        lam=lam,\n",
    "        nlayers=nlayers,\n",
    "        reality=reality,\n",
    "        multiresolution=multiresolution,\n",
    "        filters=filters,\n",
    "        spmd=spmd,\n",
    "    )"
   ]
  },
  {
   "cell_type": "code",
   "execution_count": null,
   "metadata": {},
   "outputs": [],
   "source": [
    "c1 = coeffs[:,0,0]\n",
    "c2 = start_coeffs[:,0,0]\n",
    "c3 = optimised_coeffs[:,0,0]\n"
   ]
  },
  {
   "cell_type": "code",
   "execution_count": null,
   "metadata": {},
   "outputs": [],
   "source": [
    "for i in range(len(c1)):\n",
    "    print(c1[i], c2[i], c3[i])"
   ]
  },
  {
   "cell_type": "code",
   "execution_count": null,
   "metadata": {},
   "outputs": [],
   "source": [
    "from matplotlib import pyplot as plt \n",
    "f_temp = ssht.inverse(ssht.forward(np.array(f_temp), L, Reality=reality), L, Reality=reality)\n",
    "f_start2 = ssht.inverse(ssht.forward(np.array(f_start), L, Reality=reality), L, Reality=reality)\n",
    "mx, mn = np.nanmax(f), np.nanmin(f)\n",
    "fig, (ax1,ax2, ax3) = plt.subplots(1,3, figsize=(20,10))\n",
    "ax1.imshow(f, vmax=mx, vmin=mn, cmap='magma')\n",
    "ax2.imshow(f_start2, vmax=mx, vmin=mn, cmap='magma')\n",
    "ax3.imshow(f_temp, vmax=mx, vmin=mn, cmap='magma')\n",
    "plt.show()"
   ]
  },
  {
   "cell_type": "code",
   "execution_count": null,
   "metadata": {},
   "outputs": [],
   "source": [
    "flm = s2fft.sampling.s2_samples.flm_1d_to_2d(ssht.forward(f, L, Reality=reality), L)\n",
    "flm_temp = s2fft.sampling.s2_samples.flm_1d_to_2d(ssht.forward(np.array(f_temp), L, Reality=reality), L)\n",
    "flm_start = s2fft.sampling.s2_samples.flm_1d_to_2d(ssht.forward(np.array(f_start2), L, Reality=reality), L)\n",
    "\n",
    "flm=np.real(flm)\n",
    "flm_temp=np.real(flm_temp)\n",
    "flm_start=np.real(flm_start)\n",
    "\n",
    "from matplotlib import pyplot as plt \n",
    "mx, mn = np.nanmax(flm), np.nanmin(flm)\n",
    "fig, (ax1,ax2, ax3) = plt.subplots(1,3, figsize=(20,10))\n",
    "ax1.imshow(flm, vmax=mx, vmin=mn, cmap='magma')\n",
    "ax2.imshow(flm_start, vmax=mx, vmin=mn, cmap='magma')\n",
    "ax3.imshow(flm_temp, vmax=mx, vmin=mn, cmap='magma')\n",
    "plt.show()"
   ]
  },
  {
   "cell_type": "code",
   "execution_count": null,
   "metadata": {},
   "outputs": [],
   "source": [
    "ps = power_spectrum(flm, L)\n",
    "ps_temp = power_spectrum(flm_temp, L)\n",
    "ps_start = power_spectrum(flm_start, L)\n",
    "\n",
    "plt.plot(ps, label=\"input\")\n",
    "plt.plot(ps_temp, label=\"converged\")\n",
    "plt.plot(ps_start, label=\"initial\")\n",
    "plt.legend()\n",
    "plt.show()"
   ]
  },
  {
   "cell_type": "code",
   "execution_count": null,
   "metadata": {},
   "outputs": [],
   "source": []
  }
 ],
 "metadata": {
  "kernelspec": {
   "display_name": "Python 3.8.15 ('s2wav')",
   "language": "python",
   "name": "python3"
  },
  "language_info": {
   "codemirror_mode": {
    "name": "ipython",
    "version": 3
   },
   "file_extension": ".py",
   "mimetype": "text/x-python",
   "name": "python",
   "nbconvert_exporter": "python",
   "pygments_lexer": "ipython3",
   "version": "3.9.16"
  },
  "orig_nbformat": 4,
  "vscode": {
   "interpreter": {
    "hash": "2eaa51c34c6264c479aef01ba42a63404a2d0b54fbb558b3097eeea4996caab5"
   }
  }
 },
 "nbformat": 4,
 "nbformat_minor": 2
}
