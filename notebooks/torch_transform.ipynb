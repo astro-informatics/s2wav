{
 "cells": [
  {
   "cell_type": "markdown",
   "metadata": {},
   "source": [
    "# Wavelet transform (PyTorch)\n",
    "[![colab image](https://colab.research.google.com/assets/colab-badge.svg)](https://colab.research.google.com/github/astro-informatics/s2wav/blob/main/notebooks/torch_transform.ipynb)\n",
    "\n",
    "Note that currently we only provide precompute support for PyTorch, so these transforms will only work up until around a bandlimit of $L\\sim1024$. Support for recursive, or so called *on-the-fly*, algorithms is already provided in JAX and should reach PyTorch soon.\n",
    "\n",
    "Lets start by importing some packages which we'll be using in this notebook"
   ]
  },
  {
   "cell_type": "code",
   "execution_count": null,
   "metadata": {},
   "outputs": [],
   "source": [
    "# Install s2wav\n",
    "!pip install s2wav &> /dev/null"
   ]
  },
  {
   "cell_type": "markdown",
   "metadata": {},
   "source": [
    "Lets start by importing some packages which we'll be using in this notebook"
   ]
  },
  {
   "cell_type": "code",
   "execution_count": 1,
   "metadata": {},
   "outputs": [
    {
     "name": "stderr",
     "output_type": "stream",
     "text": [
      "JAX is not using 64-bit precision. This will dramatically affect numerical precision at even moderate L.\n"
     ]
    }
   ],
   "source": [
    "import torch       # Differentiable programming ecosystem\n",
    "import s2wav       # Wavelet transforms on the sphere and rotation group\n",
    "import s2fft       # Spherical harmonic and Wigner transforms\n",
    "import numpy as np"
   ]
  },
  {
   "cell_type": "markdown",
   "metadata": {},
   "source": [
    "Now we'll define the constraints of the problem and generated some random data just for this example"
   ]
  },
  {
   "cell_type": "code",
   "execution_count": 2,
   "metadata": {},
   "outputs": [],
   "source": [
    "L = 16            # Spherical harmonic bandlimit\n",
    "N = 3             # Azimuthal (directional) bandlimit\n",
    "\n",
    "# Generate a random bandlimited signal to work with\n",
    "rng = np.random.default_rng(12346161)\n",
    "flm = s2fft.utils.signal_generator.generate_flm(rng, L)\n",
    "f = s2fft.inverse(flm, L)\n",
    "\n",
    "# We'll need to convert this numpy array into a torch.tensor\n",
    "f_torch = torch.from_numpy(f)"
   ]
  },
  {
   "cell_type": "markdown",
   "metadata": {},
   "source": [
    "We can calculate the wavelet and scaling coefficients by first building a bank of wavelet filters and precomputing and caching all matrices involved in the core transforms"
   ]
  },
  {
   "cell_type": "code",
   "execution_count": 3,
   "metadata": {},
   "outputs": [],
   "source": [
    "filter_bank = s2wav.filters.filters_directional_vectorised(L, N, using_torch=True)\n",
    "analysis_matrices = s2wav.construct.generate_full_precomputes(L, N, using_torch=True, forward=False)\n",
    "synthesis_matrices = s2wav.construct.generate_full_precomputes(L, N, using_torch=True, forward=True)"
   ]
  },
  {
   "cell_type": "markdown",
   "metadata": {},
   "source": [
    "Now we can run the transforms, which are straightforwared linear algebra, by running"
   ]
  },
  {
   "cell_type": "code",
   "execution_count": 4,
   "metadata": {},
   "outputs": [],
   "source": [
    "wavelet_coeffs, scaling_coeffs = s2wav.analysis_precomp_torch(\n",
    "    f_torch, L, N, filters=filter_bank, precomps=analysis_matrices\n",
    ")"
   ]
  },
  {
   "cell_type": "markdown",
   "metadata": {},
   "source": [
    "When an exact sampling theorem is chosen we can recover the original signal to machine precision by running"
   ]
  },
  {
   "cell_type": "code",
   "execution_count": 5,
   "metadata": {},
   "outputs": [],
   "source": [
    "f_check = s2wav.synthesis_precomp_torch(\n",
    "    wavelet_coeffs, scaling_coeffs, L, N, filters=filter_bank, precomps=synthesis_matrices\n",
    ")"
   ]
  },
  {
   "cell_type": "markdown",
   "metadata": {},
   "source": [
    "Again this first call is quite slow, but subsequent calls should be much faster. Lets double check that we actually got machine precision!"
   ]
  },
  {
   "cell_type": "code",
   "execution_count": 7,
   "metadata": {},
   "outputs": [
    {
     "name": "stdout",
     "output_type": "stream",
     "text": [
      "Mean absolute error = 2.0514116979479282e-14\n"
     ]
    }
   ],
   "source": [
    "print(f\"Mean absolute error = {np.nanmean(np.abs(f_check.resolve_conj().numpy() - f))}\")"
   ]
  }
 ],
 "metadata": {
  "kernelspec": {
   "display_name": "Python 3.9.16 ('s2wav')",
   "language": "python",
   "name": "python3"
  },
  "language_info": {
   "codemirror_mode": {
    "name": "ipython",
    "version": 3
   },
   "file_extension": ".py",
   "mimetype": "text/x-python",
   "name": "python",
   "nbconvert_exporter": "python",
   "pygments_lexer": "ipython3",
   "version": "3.9.16"
  },
  "orig_nbformat": 4,
  "vscode": {
   "interpreter": {
    "hash": "2eaa51c34c6264c479aef01ba42a63404a2d0b54fbb558b3097eeea4996caab5"
   }
  }
 },
 "nbformat": 4,
 "nbformat_minor": 2
}
