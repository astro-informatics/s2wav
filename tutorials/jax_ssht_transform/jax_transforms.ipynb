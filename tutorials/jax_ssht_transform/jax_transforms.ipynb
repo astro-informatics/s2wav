{
 "cells": [
  {
   "cell_type": "markdown",
   "metadata": {},
   "source": [
    "# Wavelet transform (JAX-SSHT)\n",
    "[![colab image](https://colab.research.google.com/assets/colab-badge.svg)](https://colab.research.google.com/github/astro-informatics/s2wav/blob/main/notebooks/jax_ssht_transform.ipynb)"
   ]
  },
  {
   "cell_type": "code",
   "execution_count": null,
   "metadata": {},
   "outputs": [],
   "source": [
    "# Install s2wav\n",
    "!pip install s2wav &> /dev/null"
   ]
  },
  {
   "cell_type": "markdown",
   "metadata": {},
   "source": [
    "Lets start by importing some packages which we'll be using in this notebook"
   ]
  },
  {
   "cell_type": "code",
   "execution_count": 1,
   "metadata": {},
   "outputs": [],
   "source": [
    "# Make sure we configure 64 bit precision. \n",
    "# 32 bit can be faster but you will be (potentially much) less precise.\n",
    "import jax\n",
    "jax.config.update(\"jax_enable_x64\", True)\n",
    "\n",
    "import s2wav       # Wavelet transforms on the sphere and rotation group\n",
    "import s2fft       # Spherical harmonic and Wigner transforms\n",
    "import numpy as np"
   ]
  },
  {
   "cell_type": "markdown",
   "metadata": {},
   "source": [
    "Now we'll define the constraints of the problem and generated some random data just for this example"
   ]
  },
  {
   "cell_type": "code",
   "execution_count": 2,
   "metadata": {},
   "outputs": [],
   "source": [
    "L = 16               # Spherical harmonic bandlimit\n",
    "N = 3                # Azimuthal (directional) bandlimit\n",
    "sampling = \"mw\"      # Sampling scheme\n",
    "use_c_backend = True # Switches backend JAX harmonic and Wigner transforms to call underlying SSHT C libraries.\n",
    "\n",
    "# Generate a random bandlimited signal to work with\n",
    "rng = np.random.default_rng(12346161)\n",
    "flm = s2fft.utils.signal_generator.generate_flm(rng, L)\n",
    "f = s2fft.inverse(flm, L)"
   ]
  },
  {
   "cell_type": "markdown",
   "metadata": {},
   "source": [
    "We can calculate the wavelet and scaling coefficients by first building a bank of wavelet filters and the running the analysis transform"
   ]
  },
  {
   "cell_type": "code",
   "execution_count": 3,
   "metadata": {},
   "outputs": [],
   "source": [
    "filter_bank = s2wav.filters.filters_directional_vectorised(L, N)\n",
    "wavelet_coeffs, scaling_coeffs = s2wav.analysis(f, L, N, filters=filter_bank, use_c_backend=use_c_backend)"
   ]
  },
  {
   "cell_type": "markdown",
   "metadata": {},
   "source": [
    "You'll notice that this first pass is very slow. That's because it is JIT compiling the function, so future calls to `s2wav.analysis` will be much fater! When an exact sampling theorem is chosen we can recover the original signal to machine precision by running"
   ]
  },
  {
   "cell_type": "code",
   "execution_count": 4,
   "metadata": {},
   "outputs": [],
   "source": [
    "f_check = s2wav.synthesis(wavelet_coeffs, scaling_coeffs, L, N, filters=filter_bank, use_c_backend=use_c_backend)"
   ]
  },
  {
   "cell_type": "markdown",
   "metadata": {},
   "source": [
    "Again this first call is quite slow, but subsequent calls should be much faster. Lets double check that we actually got machine precision!"
   ]
  },
  {
   "cell_type": "code",
   "execution_count": 5,
   "metadata": {},
   "outputs": [
    {
     "name": "stdout",
     "output_type": "stream",
     "text": [
      "Mean absolute error = 1.1009715781712507e-14\n"
     ]
    }
   ],
   "source": [
    "print(f\"Mean absolute error = {np.nanmean(np.abs(f_check - f))}\")"
   ]
  }
 ],
 "metadata": {
  "kernelspec": {
   "display_name": "Python 3.9.16 ('s2wav')",
   "language": "python",
   "name": "python3"
  },
  "language_info": {
   "codemirror_mode": {
    "name": "ipython",
    "version": 3
   },
   "file_extension": ".py",
   "mimetype": "text/x-python",
   "name": "python",
   "nbconvert_exporter": "python",
   "pygments_lexer": "ipython3",
   "version": "3.9.16"
  },
  "vscode": {
   "interpreter": {
    "hash": "2eaa51c34c6264c479aef01ba42a63404a2d0b54fbb558b3097eeea4996caab5"
   }
  }
 },
 "nbformat": 4,
 "nbformat_minor": 2
}
